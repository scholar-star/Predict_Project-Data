{
 "cells": [
  {
   "cell_type": "code",
   "execution_count": null,
   "id": "74bcb9d8",
   "metadata": {},
   "outputs": [],
   "source": [
    "import pandas as pd"
   ]
  },
  {
   "cell_type": "code",
   "execution_count": 5,
   "id": "5500fec1",
   "metadata": {},
   "outputs": [],
   "source": [
    "gaya_1_rainfall = pd.read_csv(\"D:\\\\Predict_Project Data\\\\가야1동 날씨\\\\가야제1동_1시간강수량_20250101_20250430.csv\")\n",
    "gaya_1_tem = pd.read_csv(\"D:\\\\Predict_Project Data\\\\가야1동 날씨\\\\가야제1동_1시간기온_20250101_20250430.csv\")\n",
    "gaya_1_hum = pd.read_csv(\"D:\\\\Predict_Project Data\\\\가야1동 날씨\\\\가야제1동_습도_20250101_20250430.csv\")\n",
    "gaya_1_rain = pd.read_csv(\"D:\\\\Predict_Project Data\\\\가야1동 날씨\\\\가야제1동_강수형태_20250101_20250430.csv\")\n",
    "gaya_1_sky = pd.read_csv(\"D:\\\\Predict_Project Data\\\\가야1동 날씨\\\\가야제1동_하늘상태_20250101_20250430.csv\")"
   ]
  },
  {
   "cell_type": "code",
   "execution_count": 13,
   "id": "1a86ac89",
   "metadata": {},
   "outputs": [],
   "source": [
    "gaya_1_rainfall.columns = ['일시', '시간', '예보시점', '1시간강수량']\n",
    "gaya_1_tem.columns = ['일시', '시간', '예보시점', '1시간기온']\n",
    "gaya_1_hum.columns = ['일시', '시간', '예보시점', '습도']\n",
    "gaya_1_sky.columns = ['일시', '시간', '예보시점', '하늘상태']\n",
    "gaya_1_rain.columns = ['일시', '시간', '예보시점', '강수형태']"
   ]
  },
  {
   "cell_type": "code",
   "execution_count": 20,
   "id": "116dca3a",
   "metadata": {},
   "outputs": [
    {
     "name": "stdout",
     "output_type": "stream",
     "text": [
      "(268956, 5)\n"
     ]
    }
   ],
   "source": [
    "merged = pd.merge(gaya_1_rainfall, gaya_1_tem, on=['일시', '시간', '예보시점'], how='outer')\n",
    "print(merged.shape)"
   ]
  },
  {
   "cell_type": "code",
   "execution_count": null,
   "id": "7c07d66f",
   "metadata": {},
   "outputs": [],
   "source": []
  },
  {
   "cell_type": "code",
   "execution_count": null,
   "id": "0755afdd",
   "metadata": {},
   "outputs": [],
   "source": []
  }
 ],
 "metadata": {
  "kernelspec": {
   "display_name": "wea_sub",
   "language": "python",
   "name": "python3"
  },
  "language_info": {
   "codemirror_mode": {
    "name": "ipython",
    "version": 3
   },
   "file_extension": ".py",
   "mimetype": "text/x-python",
   "name": "python",
   "nbconvert_exporter": "python",
   "pygments_lexer": "ipython3",
   "version": "3.12.11"
  }
 },
 "nbformat": 4,
 "nbformat_minor": 5
}
